{
 "cells": [
  {
   "cell_type": "code",
   "execution_count": 3,
   "outputs": [],
   "source": [
    "import sqlite3\n",
    "\n",
    "db = sqlite3.connect('salaryyyy.sqlite')\n",
    "cursor = db.cursor()\n",
    "\n",
    "import datetime\n",
    "today = datetime.datetime.now().today()"
   ],
   "metadata": {
    "collapsed": false,
    "pycharm": {
     "name": "#%%\n"
    }
   }
  },
  {
   "cell_type": "markdown",
   "source": [
    "DELETE:"
   ],
   "metadata": {
    "collapsed": false,
    "pycharm": {
     "name": "#%% md\n"
    }
   }
  },
  {
   "cell_type": "code",
   "execution_count": 6,
   "outputs": [],
   "source": [
    "db.execute('DELETE FROM salary WHERE id = 1001')\n",
    "db.commit()"
   ],
   "metadata": {
    "collapsed": false,
    "pycharm": {
     "name": "#%%\n"
    }
   }
  },
  {
   "cell_type": "markdown",
   "source": [
    "# UPDATE:"
   ],
   "metadata": {
    "collapsed": false,
    "pycharm": {
     "name": "#%% md\n"
    }
   }
  },
  {
   "cell_type": "code",
   "execution_count": 5,
   "outputs": [],
   "source": [
    "db.execute('Update salary SET amount = 25000 WHERE id = 1002')\n",
    "db.commit()"
   ],
   "metadata": {
    "collapsed": false,
    "pycharm": {
     "name": "#%%\n"
    }
   }
  },
  {
   "cell_type": "code",
   "execution_count": null,
   "outputs": [],
   "source": [
    "# ****** SQL INJECTION concept: ********\n",
    "# perform any code unintentionally. we should avoid this problem to happen.\n",
    "\n",
    "# salary_id= input('enter id from salary table')\n",
    "# cursor.executescript('Update salary SET amount ={} WHERE id = {}'.format(3000,salary_id))\n",
    "\n",
    "# if we enter \"1001;drop table salary\" then we have INJECTION. and salary table will be deleted.\n",
    "\n",
    "# 1- never use \"executescript\" to get the several query statements. instead we should use the \"execute\" frequently.\n",
    "# 2- for parameter that get value from out of database with \"input\", never use \".format\".\n",
    "# \".format\" is allowed for parameter that get value from (inside) database.\n",
    "\n",
    "\n",
    "\n",
    "# **** replacement field: ****\n",
    "# use replacement field(\"?\" in sqlite, \"%\" in mysql, to get value from out of database with \"input\".\n",
    "\n",
    "# cursor.execute('UPDATE salary SET amount =? WHERE id = ?',(6000,salary_id))\n",
    "# db.commit()\n",
    "# cursor.close()\n",
    "\n",
    "\n",
    "\n",
    "# cursor.execute('INSERT INTO salary VALUES (1001,20000,2022-09-06)')\n",
    "# cursor.execute('INSERT INTO salary VALUES (1003,50000,2022-09-06)')\n",
    "\n",
    "\n",
    "# *** cursor: ***\n",
    "# cursor is like a generator. so we can itterate through object assign with it.\n",
    "salary_records = cursor.execute('SELECT * FROM salary')\n",
    "print(salary_records)\n",
    "for item in salary_records:\n",
    "    print(item)\n",
    "print('*******************')\n",
    "for item in salary_records:\n",
    "    print(item)\n",
    "# LAST CODE PRINT NOTHING. because cursor is a generator. so when we call query with cursor, we can use it for once.\n",
    "# for second use of query, we need to rerun the query.\n",
    "\n",
    "# some method of db and cursor:\n",
    "\n",
    "# fetchone: return a record where cursor is there.\n",
    "print('*******')\n",
    "salary_records = cursor.execute('SELECT * FROM salary')\n",
    "print(cursor.fetchone()) #-------> line 1\n",
    "print(cursor.fetchone()) #-------> line 2\n",
    "\n",
    "# fetchall: return all records in format of list[].\n",
    "\n",
    "# rowcount: return int that is  number of records in the database, changed due to query.\n",
    "# if = -1 means that records are not changed due to query.\n",
    "\n",
    "# lastrowid: return number of row of the last record in the database that changed due to query.\n",
    "\n",
    "\n",
    "db.commit()\n",
    "cursor.close()\n",
    "db.close()\n",
    "\n",
    "\n",
    "\n",
    "\n",
    "\n",
    "\n",
    "\n",
    "\n",
    "\n",
    "\n",
    "\n",
    "\n",
    "\n",
    "\n",
    "\n",
    "\n",
    "\n",
    "\n",
    "\n",
    "\n",
    "\n"
   ],
   "metadata": {
    "collapsed": false,
    "pycharm": {
     "name": "#%%\n"
    }
   }
  }
 ],
 "metadata": {
  "kernelspec": {
   "display_name": "Python 3",
   "language": "python",
   "name": "python3"
  },
  "language_info": {
   "codemirror_mode": {
    "name": "ipython",
    "version": 2
   },
   "file_extension": ".py",
   "mimetype": "text/x-python",
   "name": "python",
   "nbconvert_exporter": "python",
   "pygments_lexer": "ipython2",
   "version": "2.7.6"
  }
 },
 "nbformat": 4,
 "nbformat_minor": 0
}