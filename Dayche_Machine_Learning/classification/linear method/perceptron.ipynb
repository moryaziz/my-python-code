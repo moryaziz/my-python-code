{
 "cells": [
  {
   "cell_type": "markdown",
   "source": [
    "# Linear Classification"
   ],
   "metadata": {
    "collapsed": false
   }
  },
  {
   "cell_type": "markdown",
   "source": [
    "## Initialization"
   ],
   "metadata": {
    "collapsed": false
   }
  },
  {
   "cell_type": "code",
   "execution_count": 65,
   "metadata": {
    "collapsed": true
   },
   "outputs": [],
   "source": [
    "import numpy as np\n",
    "import matplotlib.pyplot as plt\n",
    "from sklearn.metrics import confusion_matrix"
   ]
  },
  {
   "cell_type": "markdown",
   "source": [
    "## Data generation"
   ],
   "metadata": {
    "collapsed": false
   }
  },
  {
   "cell_type": "code",
   "execution_count": 66,
   "outputs": [
    {
     "name": "stdout",
     "output_type": "stream",
     "text": [
      "[1.97227706 2.02505839 1.        ]\n",
      "[2.94791075 2.97267458 1.        ]\n"
     ]
    }
   ],
   "source": [
    "np.random.seed(200)\n",
    "N = 1000\n",
    "X1 = np.hstack((2 + np.random.randn(N, 2), (np.ones((N, 1))))) #  داده دو بعدی ایجاد می کنیم. و یک ستون 1\n",
    "X2 = np.hstack((3 + np.random.randn(N, 2), (np.ones((N, 1)))))\n",
    "X = np.vstack((X1, X2))\n",
    "y1, y2 = np.ones((N, 1)), -np.ones((N, 1))\n",
    "y_train = np.vstack((y1, y2))\n",
    "data_matrix = np.hstack((X, y_train))\n",
    "X_test_1 = np.hstack((2 + np.random.randn(N, 2), (np.ones((N, 1)))))\n",
    "X_test_2 = np.hstack((3 + np.random.randn(N, 2), (np.ones((N, 1)))))\n",
    "X_test = np.vstack((X_test_1, X_test_2))\n",
    "y1, y2 = np.ones((N, 1)), -np.ones((N, 1))\n",
    "y_test = np.vstack((y1, y2))\n",
    "print(np.mean(X1, axis=0))\n",
    "print(np.mean(X2, axis=0))\n"
   ],
   "metadata": {
    "collapsed": false
   }
  },
  {
   "cell_type": "markdown",
   "source": [
    "## Perceptron\n"
   ],
   "metadata": {
    "collapsed": false
   }
  },
  {
   "cell_type": "code",
   "execution_count": 67,
   "outputs": [
    {
     "name": "stdout",
     "output_type": "stream",
     "text": [
      "epoch 1\n",
      "miss classified 49\n",
      "epoch 2\n",
      "miss classified 23\n",
      "epoch 3\n",
      "miss classified 22\n",
      "epoch 4\n",
      "miss classified 20\n",
      "epoch 5\n",
      "miss classified 17\n",
      "epoch 6\n",
      "miss classified 17\n",
      "epoch 7\n",
      "miss classified 15\n",
      "epoch 8\n",
      "miss classified 14\n",
      "epoch 9\n",
      "miss classified 12\n",
      "epoch 10\n",
      "miss classified 12\n",
      "epoch 11\n",
      "miss classified 10\n",
      "epoch 12\n",
      "miss classified 10\n",
      "epoch 13\n",
      "miss classified 10\n",
      "epoch 14\n",
      "miss classified 10\n",
      "epoch 15\n",
      "miss classified 10\n",
      "epoch 16\n",
      "miss classified 9\n",
      "epoch 17\n",
      "miss classified 8\n",
      "epoch 18\n",
      "miss classified 7\n",
      "epoch 19\n",
      "miss classified 7\n",
      "epoch 20\n",
      "miss classified 7\n",
      "epoch 21\n",
      "miss classified 7\n",
      "epoch 22\n",
      "miss classified 4\n",
      "epoch 23\n",
      "miss classified 5\n",
      "epoch 24\n",
      "miss classified 6\n",
      "epoch 25\n",
      "miss classified 6\n",
      "epoch 26\n",
      "miss classified 4\n",
      "epoch 27\n",
      "miss classified 6\n",
      "epoch 28\n",
      "miss classified 6\n",
      "epoch 29\n",
      "miss classified 4\n",
      "epoch 30\n",
      "miss classified 6\n",
      "epoch 31\n",
      "miss classified 6\n",
      "epoch 32\n",
      "miss classified 5\n",
      "epoch 33\n",
      "miss classified 6\n",
      "epoch 34\n",
      "miss classified 6\n",
      "epoch 35\n",
      "miss classified 4\n",
      "epoch 36\n",
      "miss classified 6\n",
      "epoch 37\n",
      "miss classified 4\n",
      "epoch 38\n",
      "miss classified 6\n",
      "epoch 39\n",
      "miss classified 6\n",
      "epoch 40\n",
      "miss classified 4\n",
      "epoch 41\n",
      "miss classified 6\n",
      "epoch 42\n",
      "miss classified 4\n",
      "epoch 43\n",
      "miss classified 6\n",
      "epoch 44\n",
      "miss classified 6\n",
      "epoch 45\n",
      "miss classified 4\n",
      "epoch 46\n",
      "miss classified 6\n",
      "epoch 47\n",
      "miss classified 4\n",
      "epoch 48\n",
      "miss classified 6\n",
      "epoch 49\n",
      "miss classified 6\n",
      "epoch 50\n",
      "miss classified 4\n",
      "epoch 51\n",
      "miss classified 6\n",
      "epoch 52\n",
      "miss classified 4\n",
      "epoch 53\n",
      "miss classified 6\n",
      "epoch 54\n",
      "miss classified 6\n",
      "epoch 55\n",
      "miss classified 4\n",
      "epoch 56\n",
      "miss classified 6\n",
      "epoch 57\n",
      "miss classified 4\n",
      "epoch 58\n",
      "miss classified 6\n",
      "epoch 59\n",
      "miss classified 6\n",
      "epoch 60\n",
      "miss classified 4\n",
      "epoch 61\n",
      "miss classified 6\n",
      "epoch 62\n",
      "miss classified 4\n",
      "epoch 63\n",
      "miss classified 6\n",
      "epoch 64\n",
      "miss classified 6\n",
      "epoch 65\n",
      "miss classified 4\n",
      "epoch 66\n",
      "miss classified 6\n",
      "epoch 67\n",
      "miss classified 4\n",
      "epoch 68\n",
      "miss classified 6\n",
      "epoch 69\n",
      "miss classified 6\n",
      "epoch 70\n",
      "miss classified 4\n",
      "epoch 71\n",
      "miss classified 6\n",
      "epoch 72\n",
      "miss classified 4\n",
      "epoch 73\n",
      "miss classified 6\n",
      "epoch 74\n",
      "miss classified 6\n",
      "epoch 75\n",
      "miss classified 4\n",
      "epoch 76\n",
      "miss classified 6\n",
      "epoch 77\n",
      "miss classified 4\n",
      "epoch 78\n",
      "miss classified 6\n",
      "epoch 79\n",
      "miss classified 6\n",
      "epoch 80\n",
      "miss classified 4\n",
      "epoch 81\n",
      "miss classified 6\n",
      "epoch 82\n",
      "miss classified 4\n",
      "epoch 83\n",
      "miss classified 6\n",
      "epoch 84\n",
      "miss classified 6\n",
      "epoch 85\n",
      "miss classified 4\n",
      "epoch 86\n",
      "miss classified 6\n",
      "epoch 87\n",
      "miss classified 4\n",
      "epoch 88\n",
      "miss classified 6\n",
      "epoch 89\n",
      "miss classified 6\n",
      "epoch 90\n",
      "miss classified 4\n",
      "epoch 91\n",
      "miss classified 6\n",
      "epoch 92\n",
      "miss classified 4\n",
      "epoch 93\n",
      "miss classified 6\n",
      "epoch 94\n",
      "miss classified 6\n",
      "epoch 95\n",
      "miss classified 4\n",
      "epoch 96\n",
      "miss classified 6\n",
      "epoch 97\n",
      "miss classified 4\n",
      "epoch 98\n",
      "miss classified 6\n",
      "epoch 99\n",
      "miss classified 7\n",
      "epoch 100\n",
      "miss classified 4\n",
      "epoch 101\n",
      "miss classified 6\n",
      "epoch 102\n",
      "miss classified 4\n",
      "epoch 103\n",
      "miss classified 6\n",
      "epoch 104\n",
      "miss classified 6\n",
      "epoch 105\n",
      "miss classified 4\n",
      "epoch 106\n",
      "miss classified 6\n",
      "epoch 107\n",
      "miss classified 5\n",
      "epoch 108\n",
      "miss classified 5\n",
      "epoch 109\n",
      "miss classified 6\n",
      "epoch 110\n",
      "miss classified 6\n",
      "epoch 111\n",
      "miss classified 5\n",
      "epoch 112\n",
      "miss classified 4\n",
      "epoch 113\n",
      "miss classified 4\n",
      "epoch 114\n",
      "miss classified 6\n",
      "epoch 115\n",
      "miss classified 4\n",
      "epoch 116\n",
      "miss classified 4\n",
      "epoch 117\n",
      "miss classified 6\n",
      "epoch 118\n",
      "miss classified 6\n",
      "epoch 119\n",
      "miss classified 4\n",
      "epoch 120\n",
      "miss classified 6\n",
      "epoch 121\n",
      "miss classified 4\n",
      "epoch 122\n",
      "miss classified 6\n",
      "epoch 123\n",
      "miss classified 6\n",
      "epoch 124\n",
      "miss classified 4\n",
      "epoch 125\n",
      "miss classified 6\n",
      "epoch 126\n",
      "miss classified 4\n",
      "epoch 127\n",
      "miss classified 6\n",
      "epoch 128\n",
      "miss classified 6\n",
      "epoch 129\n",
      "miss classified 4\n",
      "epoch 130\n",
      "miss classified 6\n",
      "epoch 131\n",
      "miss classified 6\n",
      "epoch 132\n",
      "miss classified 4\n",
      "epoch 133\n",
      "miss classified 6\n",
      "epoch 134\n",
      "miss classified 4\n",
      "epoch 135\n",
      "miss classified 6\n",
      "epoch 136\n",
      "miss classified 6\n",
      "epoch 137\n",
      "miss classified 4\n",
      "epoch 138\n",
      "miss classified 6\n",
      "epoch 139\n",
      "miss classified 6\n",
      "epoch 140\n",
      "miss classified 4\n",
      "epoch 141\n",
      "miss classified 6\n",
      "epoch 142\n",
      "miss classified 5\n",
      "epoch 143\n",
      "miss classified 5\n",
      "epoch 144\n",
      "miss classified 4\n",
      "epoch 145\n",
      "miss classified 6\n",
      "epoch 146\n",
      "miss classified 6\n",
      "epoch 147\n",
      "miss classified 4\n",
      "epoch 148\n",
      "miss classified 6\n",
      "epoch 149\n",
      "miss classified 4\n",
      "epoch 150\n",
      "miss classified 6\n",
      "epoch 151\n",
      "miss classified 6\n",
      "epoch 152\n",
      "miss classified 4\n",
      "epoch 153\n",
      "miss classified 6\n",
      "epoch 154\n",
      "miss classified 4\n",
      "epoch 155\n",
      "miss classified 6\n",
      "epoch 156\n",
      "miss classified 6\n",
      "epoch 157\n",
      "miss classified 4\n",
      "epoch 158\n",
      "miss classified 6\n",
      "epoch 159\n",
      "miss classified 4\n",
      "epoch 160\n",
      "miss classified 6\n",
      "epoch 161\n",
      "miss classified 6\n",
      "epoch 162\n",
      "miss classified 4\n",
      "epoch 163\n",
      "miss classified 6\n",
      "epoch 164\n",
      "miss classified 4\n",
      "epoch 165\n",
      "miss classified 6\n",
      "epoch 166\n",
      "miss classified 6\n",
      "epoch 167\n",
      "miss classified 4\n",
      "epoch 168\n",
      "miss classified 6\n",
      "epoch 169\n",
      "miss classified 4\n",
      "epoch 170\n",
      "miss classified 6\n",
      "epoch 171\n",
      "miss classified 6\n",
      "epoch 172\n",
      "miss classified 4\n",
      "epoch 173\n",
      "miss classified 6\n",
      "epoch 174\n",
      "miss classified 4\n",
      "epoch 175\n",
      "miss classified 6\n",
      "epoch 176\n",
      "miss classified 6\n",
      "epoch 177\n",
      "miss classified 4\n",
      "epoch 178\n",
      "miss classified 6\n",
      "epoch 179\n",
      "miss classified 4\n",
      "epoch 180\n",
      "miss classified 6\n",
      "epoch 181\n",
      "miss classified 6\n",
      "epoch 182\n",
      "miss classified 4\n",
      "epoch 183\n",
      "miss classified 6\n",
      "epoch 184\n",
      "miss classified 4\n",
      "epoch 185\n",
      "miss classified 6\n",
      "epoch 186\n",
      "miss classified 6\n",
      "epoch 187\n",
      "miss classified 4\n",
      "epoch 188\n",
      "miss classified 6\n",
      "epoch 189\n",
      "miss classified 4\n",
      "epoch 190\n",
      "miss classified 6\n",
      "epoch 191\n",
      "miss classified 6\n",
      "epoch 192\n",
      "miss classified 4\n",
      "epoch 193\n",
      "miss classified 6\n",
      "epoch 194\n",
      "miss classified 4\n",
      "epoch 195\n",
      "miss classified 6\n",
      "epoch 196\n",
      "miss classified 6\n",
      "epoch 197\n",
      "miss classified 4\n",
      "epoch 198\n",
      "miss classified 6\n",
      "epoch 199\n",
      "miss classified 4\n",
      "epoch 200\n",
      "miss classified 6\n"
     ]
    }
   ],
   "source": [
    "i = 0\n",
    "lr = 0.01 #learning rate\n",
    "w = np.ones(X1.shape[1]) # first estimation of W (dimension = X)\n",
    "epoch = 200 #NUMBER OF ITTERATIONS\n",
    "while i == 0 and epoch !=0 : # برای توقف یا باید همگرا بشیم یا تعداد دوره مون تموم بشه\n",
    "    miss_classified = 0\n",
    "    for item in range(len(data_matrix)): # data matrix = [X1,X2,1,y]\n",
    "        x = data_matrix[item,:-1]\n",
    "        y = data_matrix[item, -1]\n",
    "        projection = np.dot(w, x)\n",
    "        if y * projection > 0: #(tn*yn>0)\n",
    "            continue\n",
    "        else:\n",
    "            w += lr * x * y # زیگما در دل این جمله هست.\n",
    "            # we calculate lr*Xn*y for each X (that is missclass) and sum to obtain final W after first epoch.\n",
    "            miss_classified += 1\n",
    "    print('epoch {}'.format(200 - epoch + 1))\n",
    "    print('miss classified {}'.format(miss_classified))\n",
    "    epoch -=1\n",
    "    if miss_classified == 0:\n",
    "        i = 1\n",
    "\n",
    "\n",
    "\n",
    "\n"
   ],
   "metadata": {
    "collapsed": false
   }
  },
  {
   "cell_type": "code",
   "execution_count": 68,
   "outputs": [
    {
     "data": {
      "text/plain": "array([-0.04884905, -0.04560976,  0.04      ])"
     },
     "execution_count": 68,
     "metadata": {},
     "output_type": "execute_result"
    }
   ],
   "source": [
    "w"
   ],
   "metadata": {
    "collapsed": false
   }
  },
  {
   "cell_type": "markdown",
   "source": [
    "## Validation\n"
   ],
   "metadata": {
    "collapsed": false
   }
  },
  {
   "cell_type": "code",
   "execution_count": 69,
   "outputs": [
    {
     "data": {
      "text/plain": "array([[1000,    0],\n       [ 988,   12]], dtype=int64)"
     },
     "execution_count": 69,
     "metadata": {},
     "output_type": "execute_result"
    }
   ],
   "source": [
    "y_pre = []\n",
    "for i in range(len(X_test)):\n",
    "    y_pre.append(np.sign(np.dot(w,X_test[i, ]))) #y_pre = sign(W * Xtest[i, :])\n",
    "\n",
    "confusion_matrix(y_pre, y_test).T\n",
    "# با اینکه همگرا نشدیم دقت مدلی که خودمون نوشتیم از پکیچ بهتره. به نظرم به خاطر شرط استاپ هستش."
   ],
   "metadata": {
    "collapsed": false
   }
  },
  {
   "cell_type": "markdown",
   "source": [
    "## Using sklearn package"
   ],
   "metadata": {
    "collapsed": false
   }
  },
  {
   "cell_type": "code",
   "execution_count": 70,
   "outputs": [
    {
     "name": "stderr",
     "output_type": "stream",
     "text": [
      "C:\\Users\\Morteza\\AppData\\Local\\Programs\\Python\\Python311\\Lib\\site-packages\\sklearn\\utils\\validation.py:1141: DataConversionWarning: A column-vector y was passed when a 1d array was expected. Please change the shape of y to (n_samples, ), for example using ravel().\n",
      "  y = column_or_1d(y, warn=True)\n"
     ]
    },
    {
     "data": {
      "text/plain": "Perceptron()",
      "text/html": "<style>#sk-container-id-8 {color: black;background-color: white;}#sk-container-id-8 pre{padding: 0;}#sk-container-id-8 div.sk-toggleable {background-color: white;}#sk-container-id-8 label.sk-toggleable__label {cursor: pointer;display: block;width: 100%;margin-bottom: 0;padding: 0.3em;box-sizing: border-box;text-align: center;}#sk-container-id-8 label.sk-toggleable__label-arrow:before {content: \"▸\";float: left;margin-right: 0.25em;color: #696969;}#sk-container-id-8 label.sk-toggleable__label-arrow:hover:before {color: black;}#sk-container-id-8 div.sk-estimator:hover label.sk-toggleable__label-arrow:before {color: black;}#sk-container-id-8 div.sk-toggleable__content {max-height: 0;max-width: 0;overflow: hidden;text-align: left;background-color: #f0f8ff;}#sk-container-id-8 div.sk-toggleable__content pre {margin: 0.2em;color: black;border-radius: 0.25em;background-color: #f0f8ff;}#sk-container-id-8 input.sk-toggleable__control:checked~div.sk-toggleable__content {max-height: 200px;max-width: 100%;overflow: auto;}#sk-container-id-8 input.sk-toggleable__control:checked~label.sk-toggleable__label-arrow:before {content: \"▾\";}#sk-container-id-8 div.sk-estimator input.sk-toggleable__control:checked~label.sk-toggleable__label {background-color: #d4ebff;}#sk-container-id-8 div.sk-label input.sk-toggleable__control:checked~label.sk-toggleable__label {background-color: #d4ebff;}#sk-container-id-8 input.sk-hidden--visually {border: 0;clip: rect(1px 1px 1px 1px);clip: rect(1px, 1px, 1px, 1px);height: 1px;margin: -1px;overflow: hidden;padding: 0;position: absolute;width: 1px;}#sk-container-id-8 div.sk-estimator {font-family: monospace;background-color: #f0f8ff;border: 1px dotted black;border-radius: 0.25em;box-sizing: border-box;margin-bottom: 0.5em;}#sk-container-id-8 div.sk-estimator:hover {background-color: #d4ebff;}#sk-container-id-8 div.sk-parallel-item::after {content: \"\";width: 100%;border-bottom: 1px solid gray;flex-grow: 1;}#sk-container-id-8 div.sk-label:hover label.sk-toggleable__label {background-color: #d4ebff;}#sk-container-id-8 div.sk-serial::before {content: \"\";position: absolute;border-left: 1px solid gray;box-sizing: border-box;top: 0;bottom: 0;left: 50%;z-index: 0;}#sk-container-id-8 div.sk-serial {display: flex;flex-direction: column;align-items: center;background-color: white;padding-right: 0.2em;padding-left: 0.2em;position: relative;}#sk-container-id-8 div.sk-item {position: relative;z-index: 1;}#sk-container-id-8 div.sk-parallel {display: flex;align-items: stretch;justify-content: center;background-color: white;position: relative;}#sk-container-id-8 div.sk-item::before, #sk-container-id-8 div.sk-parallel-item::before {content: \"\";position: absolute;border-left: 1px solid gray;box-sizing: border-box;top: 0;bottom: 0;left: 50%;z-index: -1;}#sk-container-id-8 div.sk-parallel-item {display: flex;flex-direction: column;z-index: 1;position: relative;background-color: white;}#sk-container-id-8 div.sk-parallel-item:first-child::after {align-self: flex-end;width: 50%;}#sk-container-id-8 div.sk-parallel-item:last-child::after {align-self: flex-start;width: 50%;}#sk-container-id-8 div.sk-parallel-item:only-child::after {width: 0;}#sk-container-id-8 div.sk-dashed-wrapped {border: 1px dashed gray;margin: 0 0.4em 0.5em 0.4em;box-sizing: border-box;padding-bottom: 0.4em;background-color: white;}#sk-container-id-8 div.sk-label label {font-family: monospace;font-weight: bold;display: inline-block;line-height: 1.2em;}#sk-container-id-8 div.sk-label-container {text-align: center;}#sk-container-id-8 div.sk-container {/* jupyter's `normalize.less` sets `[hidden] { display: none; }` but bootstrap.min.css set `[hidden] { display: none !important; }` so we also need the `!important` here to be able to override the default hidden behavior on the sphinx rendered scikit-learn.org. See: https://github.com/scikit-learn/scikit-learn/issues/21755 */display: inline-block !important;position: relative;}#sk-container-id-8 div.sk-text-repr-fallback {display: none;}</style><div id=\"sk-container-id-8\" class=\"sk-top-container\"><div class=\"sk-text-repr-fallback\"><pre>Perceptron()</pre><b>In a Jupyter environment, please rerun this cell to show the HTML representation or trust the notebook. <br />On GitHub, the HTML representation is unable to render, please try loading this page with nbviewer.org.</b></div><div class=\"sk-container\" hidden><div class=\"sk-item\"><div class=\"sk-estimator sk-toggleable\"><input class=\"sk-toggleable__control sk-hidden--visually\" id=\"sk-estimator-id-8\" type=\"checkbox\" checked><label for=\"sk-estimator-id-8\" class=\"sk-toggleable__label sk-toggleable__label-arrow\">Perceptron</label><div class=\"sk-toggleable__content\"><pre>Perceptron()</pre></div></div></div></div></div>"
     },
     "execution_count": 70,
     "metadata": {},
     "output_type": "execute_result"
    }
   ],
   "source": [
    "from sklearn.linear_model import Perceptron\n",
    "\n",
    "model = Perceptron(tol=0.001 , random_state=0) #stop condition is tol = W1 - W0 until tol = 0.001\n",
    "model.fit(X,y_train)"
   ],
   "metadata": {
    "collapsed": false
   }
  },
  {
   "cell_type": "code",
   "execution_count": 71,
   "outputs": [
    {
     "name": "stdout",
     "output_type": "stream",
     "text": [
      "[[967  33]\n",
      " [737 263]]\n"
     ]
    },
    {
     "data": {
      "text/plain": "array([[-8.00319581, -8.29277277, 13.        ]])"
     },
     "execution_count": 71,
     "metadata": {},
     "output_type": "execute_result"
    }
   ],
   "source": [
    "y_pre = model.predict(X)\n",
    "# python package crate y_pre in form of (-1,1)\n",
    "# but for scartch code we must use sign method to tranform calculated dot(W,X) to y_pre=(-1,1).\n",
    "print(confusion_matrix(y_pre, y_train).T)\n",
    "model.coef_\n",
    "# همه داده اموزش را نتوانسته که تفکیک کند"
   ],
   "metadata": {
    "collapsed": false
   }
  },
  {
   "cell_type": "code",
   "execution_count": 72,
   "outputs": [
    {
     "name": "stdout",
     "output_type": "stream",
     "text": [
      "[[979  21]\n",
      " [712 288]]\n"
     ]
    },
    {
     "data": {
      "text/plain": "array([[-8.00319581, -8.29277277, 13.        ]])"
     },
     "execution_count": 72,
     "metadata": {},
     "output_type": "execute_result"
    }
   ],
   "source": [
    "y_pre = model.predict(X_test)\n",
    "print(confusion_matrix(y_pre, y_test).T)\n",
    "model.coef_"
   ],
   "metadata": {
    "collapsed": false
   }
  },
  {
   "cell_type": "markdown",
   "source": [
    "## Least Square method"
   ],
   "metadata": {
    "collapsed": false
   }
  },
  {
   "cell_type": "code",
   "execution_count": 73,
   "outputs": [
    {
     "data": {
      "text/plain": "array([[-0.34750646],\n       [-0.32445486],\n       [ 1.6656679 ]])"
     },
     "execution_count": 73,
     "metadata": {},
     "output_type": "execute_result"
    }
   ],
   "source": [
    "a = np.linalg.inv(np.dot(X.T, X)) # W = (X.T * X)^-1 * X.T * y\n",
    "b = np.dot(X.T, y_train)\n",
    "W = np.dot(a, b)\n",
    "W"
   ],
   "metadata": {
    "collapsed": false
   }
  },
  {
   "cell_type": "code",
   "execution_count": 74,
   "outputs": [
    {
     "data": {
      "text/plain": "array([[1000,    0],\n       [ 988,   12]], dtype=int64)"
     },
     "execution_count": 74,
     "metadata": {},
     "output_type": "execute_result"
    }
   ],
   "source": [
    "y_pre = []\n",
    "for i in range(len(X_test)):\n",
    "    y_pre.append(np.sign(np.dot(w,X_test[i, ])))\n",
    "\n",
    "confusion_matrix(y_pre, y_test).T"
   ],
   "metadata": {
    "collapsed": false
   }
  },
  {
   "cell_type": "code",
   "execution_count": 76,
   "outputs": [
    {
     "data": {
      "text/plain": "-1.0"
     },
     "execution_count": 76,
     "metadata": {},
     "output_type": "execute_result"
    }
   ],
   "source": [
    "np.sign(np.dot(w,X_test[i, ]))"
   ],
   "metadata": {
    "collapsed": false
   }
  }
 ],
 "metadata": {
  "kernelspec": {
   "display_name": "Python 3",
   "language": "python",
   "name": "python3"
  },
  "language_info": {
   "codemirror_mode": {
    "name": "ipython",
    "version": 2
   },
   "file_extension": ".py",
   "mimetype": "text/x-python",
   "name": "python",
   "nbconvert_exporter": "python",
   "pygments_lexer": "ipython2",
   "version": "2.7.6"
  }
 },
 "nbformat": 4,
 "nbformat_minor": 0
}
