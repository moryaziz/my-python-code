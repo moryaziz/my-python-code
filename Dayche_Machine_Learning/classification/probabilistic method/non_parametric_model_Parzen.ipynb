{
 "cells": [
  {
   "cell_type": "markdown",
   "source": [
    "# Parzen density estimation\n"
   ],
   "metadata": {
    "collapsed": false
   }
  },
  {
   "cell_type": "code",
   "execution_count": 1,
   "outputs": [],
   "source": [
    "import numpy as np\n",
    "from scipy.stats import mode\n",
    "from sklearn.metrics import confusion_matrix"
   ],
   "metadata": {
    "collapsed": false
   }
  },
  {
   "cell_type": "code",
   "execution_count": 2,
   "metadata": {
    "collapsed": true
   },
   "outputs": [],
   "source": [
    "class Parzen(object):\n",
    "    def __int__(self):\n",
    "        self.x_train = None\n",
    "\n",
    "    def fit(self, x_train, h):\n",
    "        self.h = h\n",
    "        self.x_train = x_train\n",
    "        self.dimension = self.x_train.shape[1]\n",
    "\n",
    "    def __kernel(self, x):\n",
    "        self.__distance = (x.reshape(1, self.dimension) - self.x_train)/self.h\n",
    "\n",
    "    def __cal_P(self,x):\n",
    "        self.__kernel(x)\n",
    "        index = np.where(np.abs(self.__distance) < 0.50)\n",
    "        self.__distance[index[0]] = 1\n",
    "        # a = np.array([1, 2, 1, 4])\n",
    "        # index = np.where(a<2)\n",
    "        # print(index[0]) ---------> export: [0 2]\n",
    "        # print(index) ---------> export: (array([0, 2], dtype=int64),)\n",
    "        self.__distance[self.__distance != 1] = 0\n",
    "        self.sum = np.sum(self.__distance)\n",
    "        return np.sum(self.__distance)/(len(self.x_train)*(self.h**self.dimension)) # sum(k)/(N*h^D)\n",
    "\n",
    "    def predict(self, x):\n",
    "        y_pre = self.__cal_P(x)\n",
    "        return y_pre"
   ]
  },
  {
   "cell_type": "code",
   "execution_count": 3,
   "outputs": [],
   "source": [
    "N = 1000\n",
    "Xtrain_1_D1 = 2 + np.random.randn(N, 1)\n",
    "Xtrain_1_D2 = 6 + np.random.randn(N, 1)\n",
    "ytrain_1 = np.zeros((N, 1))\n",
    "Xtrain_2_D1 = 4 + np.random.randn(N, 1)\n",
    "Xtrain_2_D2 = 8 + np.random.randn(N, 1)\n",
    "ytrain_2 = np.ones((N, 1))\n",
    "Xtrain_1 = np.hstack((Xtrain_1_D1, Xtrain_1_D2))\n",
    "Xtrain_2 = np.hstack((Xtrain_2_D1, Xtrain_2_D2))\n",
    "\n",
    "X_train = np.vstack((Xtrain_1, Xtrain_2))\n",
    "y_train = np.vstack((ytrain_1, ytrain_2))\n",
    "\n",
    "Xtest_1_D1 = 2 + np.random.randn(int(N/2), 1)\n",
    "Xtest_1_D2 = 6 + np.random.randn(int(N/2), 1)\n",
    "ytest_1 = np.zeros((int(N/2), 1))\n",
    "Xtest_2_D1 = 4 + np.random.randn(int(N/2), 1)\n",
    "Xtest_2_D2 = 8 + np.random.randn(int(N/2), 1)\n",
    "ytest_2 = np.ones((int(N/2), 1))\n",
    "\n",
    "Xtest_1 = np.hstack((Xtest_1_D1, Xtest_1_D2))\n",
    "Xtest_2 = np.hstack((Xtest_2_D1, Xtest_2_D2))\n",
    "X_test = np.vstack((Xtest_1, Xtest_2))\n",
    "y_test = np.vstack((ytest_1, ytest_2))"
   ],
   "metadata": {
    "collapsed": false
   }
  },
  {
   "cell_type": "code",
   "execution_count": 4,
   "outputs": [],
   "source": [
    "model1 = Parzen()\n",
    "model2 = Parzen()\n",
    "h = 1\n",
    "model1.fit(Xtrain_1, h) # calculate the kernel and finally probability for each x_test compared to X_train1 and X_train2.\n",
    "model2.fit(Xtrain_2, h)\n",
    "# باید فاصله و کرنل و در نهایت احتمال تعلق هر داده تست را به هر مجموعه آموزش 1 (کلاس 1) و آموزش 2 (کلاس 2) محاسبه و مقایسه کنیم.\n",
    "y_pre = []\n",
    "for i in range(len(X_test)):\n",
    "    p1 = model1.predict(X_test[i, ]) # p(x!w1)\n",
    "    p2 = model2.predict(X_test[i, ]) # p(x!w2)\n",
    "    if p1 >= p2: # here P(w1) = P(w2) if P(w1) =! P(w2) then if P(w1)*p(x!w1) > P(w2)*p(x!w2)\n",
    "        y_pre.append(0)\n",
    "    else:\n",
    "        y_pre.append(1)"
   ],
   "metadata": {
    "collapsed": false
   }
  },
  {
   "cell_type": "code",
   "execution_count": 5,
   "outputs": [
    {
     "data": {
      "text/plain": "array([[0.88 , 0.122],\n       [0.12 , 0.878]])"
     },
     "execution_count": 5,
     "metadata": {},
     "output_type": "execute_result"
    }
   ],
   "source": [
    "2*confusion_matrix(y_pre, y_test)/len(X_test)\n"
   ],
   "metadata": {
    "collapsed": false
   }
  },
  {
   "cell_type": "markdown",
   "source": [],
   "metadata": {
    "collapsed": false
   }
  }
 ],
 "metadata": {
  "kernelspec": {
   "display_name": "Python 3",
   "language": "python",
   "name": "python3"
  },
  "language_info": {
   "codemirror_mode": {
    "name": "ipython",
    "version": 2
   },
   "file_extension": ".py",
   "mimetype": "text/x-python",
   "name": "python",
   "nbconvert_exporter": "python",
   "pygments_lexer": "ipython2",
   "version": "2.7.6"
  }
 },
 "nbformat": 4,
 "nbformat_minor": 0
}
