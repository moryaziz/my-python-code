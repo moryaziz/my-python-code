{
 "cells": [
  {
   "cell_type": "markdown",
   "source": [
    "# KNN\n"
   ],
   "metadata": {
    "collapsed": false
   }
  },
  {
   "cell_type": "markdown",
   "source": [
    "## Initialization"
   ],
   "metadata": {
    "collapsed": false
   }
  },
  {
   "cell_type": "code",
   "execution_count": 40,
   "metadata": {
    "collapsed": true
   },
   "outputs": [],
   "source": [
    "import numpy as np\n",
    "from scipy.stats import mode\n",
    "from sklearn.metrics import confusion_matrix"
   ]
  },
  {
   "cell_type": "markdown",
   "source": [
    "## Define the Class\n"
   ],
   "metadata": {
    "collapsed": false
   }
  },
  {
   "cell_type": "code",
   "execution_count": 41,
   "outputs": [],
   "source": [
    "class KNN(object):\n",
    "    def __init__(self):\n",
    "        self.x_train = None\n",
    "        self.label = None\n",
    "\n",
    "    def fit(self, x_train,label):\n",
    "        self.x_train = x_train\n",
    "        self._input_dimension = self.x_train.shape[1] # give back number of column of x_train.\n",
    "        self.label = label\n",
    "\n",
    "    def __distance(self):#(self,k)\n",
    "        self._metrics = np.linalg.norm(self._xtest.reshape(1,self._input_dimension) - self.x_train, axis = 1)\n",
    "        # فاصله نقطه داده شده را با تمام نقاط ورودی آموزش حساب می کند. من سوال داشتم که ابعادشون یکی نیست که به نظر مهم نیست.\n",
    "        # تعداد ستون یکسان است که مهمه ولی تست فقط یه رکورد یعنی یک سطر دارد.\n",
    "        # we give predict (x_test[i,:] means that x_test.shape = [1,D = x_train.shape[1]]]\n",
    "        # ما رکرود به رکورد به کدمون رکرودی از تست را میدهیم و خروجی را میگریم. حالا این رکورد ممکنه به صورت ترسنپوز باشه.\n",
    "        # برای همین تعریف میکنیم که برای اطمینان بچرخونش به صورت 1 سطر و چند ستون به تعداد ابعاد ستون ورودی آموزش.\n",
    "        # در حالت کلی ممکنه اصلا لازم نشه.\n",
    "        # self.__sort(k)\n",
    "        # کد استاد\n",
    "\n",
    "    def __sort(self,k):\n",
    "        index = np.argsort(self._metrics) # argsort return indices that would sort an array.\n",
    "        # # یعنی اگر این اندیس را به هر ماتریسی بدهیم بر اساس ترتیب ماتریس سورت شده، ان هم سورت می شود.\n",
    "        # x = np.array([3, 1, 2])\n",
    "        # >>> index = np.argsort(x)\n",
    "        # index: array([1, 2, 0]) # if give index to any array, it will be sorted by index.\n",
    "        self.label_sort = self.label[index]\n",
    "        self.final_label = mode(self.label_sort[0:k])[0][0]\n",
    "\n",
    "    # def predict(self, x, k):\n",
    "    #     self.k = k\n",
    "    #     self._xtest = x\n",
    "    #     self.__distance(k)\n",
    "    #     return self.final_label\n",
    "\n",
    "    def predict(self, x, k):\n",
    "        self.k = k\n",
    "        self._xtest = x\n",
    "        self.__distance()\n",
    "        self.__sort(k)\n",
    "        return self.final_label\n",
    "\n",
    "# by fit get (x_train, y_train). then use pridct with given record of test to use distance mthod to calculate self._metric then use sort method to sort labels\n",
    "# after sorting labels, then use mode to get final label in range of K."
   ],
   "metadata": {
    "collapsed": false
   }
  },
  {
   "cell_type": "code",
   "execution_count": 42,
   "outputs": [],
   "source": [
    "N = 1000\n",
    "Xtrain_1_D1 = 2 + np.random.randn(N, 1)\n",
    "Xtrain_1_D2 = 6 + np.random.randn(N, 1)\n",
    "ytrain_1 = np.zeros((N, 1))\n",
    "Xtrain_2_D1 = 4 + np.random.randn(N, 1)\n",
    "Xtrain_2_D2 = 8 + np.random.randn(N, 1)\n",
    "ytrain_2 = np.ones((N, 1))\n",
    "Xtrain_1 = np.hstack((Xtrain_1_D1, Xtrain_1_D2))\n",
    "Xtrain_2 = np.hstack((Xtrain_2_D1, Xtrain_2_D2))\n",
    "\n",
    "X_train = np.vstack((Xtrain_1, Xtrain_2))\n",
    "y_train = np.vstack((ytrain_1, ytrain_2))\n",
    "\n",
    "Xtest_1_D1 = 2 + np.random.randn(int(N/2), 1)\n",
    "Xtest_1_D2 = 6 + np.random.randn(int(N/2), 1)\n",
    "ytest_1 = np.zeros((int(N/2), 1))\n",
    "Xtest_2_D1 = 4 + np.random.randn(int(N/2), 1)\n",
    "Xtest_2_D2 = 8 + np.random.randn(int(N/2), 1)\n",
    "ytest_2 = np.ones((int(N/2), 1))\n",
    "\n",
    "Xtest_1 = np.hstack((Xtest_1_D1, Xtest_1_D2))\n",
    "Xtest_2 = np.hstack((Xtest_2_D1, Xtest_2_D2))\n",
    "X_test = np.vstack((Xtest_1, Xtest_2))\n",
    "y_test = np.vstack((ytest_1, ytest_2))"
   ],
   "metadata": {
    "collapsed": false
   }
  },
  {
   "cell_type": "code",
   "execution_count": 43,
   "outputs": [],
   "source": [
    "model = KNN()\n",
    "model.fit(X_train, y_train)"
   ],
   "metadata": {
    "collapsed": false
   }
  },
  {
   "cell_type": "code",
   "execution_count": 44,
   "outputs": [
    {
     "name": "stderr",
     "output_type": "stream",
     "text": [
      "C:\\Users\\Morteza\\AppData\\Local\\Temp\\ipykernel_2888\\3918699169.py:29: FutureWarning: Unlike other reduction functions (e.g. `skew`, `kurtosis`), the default behavior of `mode` typically preserves the axis it acts along. In SciPy 1.11.0, this behavior will change: the default value of `keepdims` will become False, the `axis` over which the statistic is taken will be eliminated, and the value None will no longer be accepted. Set `keepdims` to True or False to avoid this warning.\n",
      "  self.final_label = mode(self.label_sort[0:k])[0][0]\n"
     ]
    }
   ],
   "source": [
    "y_pre = []\n",
    "k = 10\n",
    "for i in range(len(X_test)):\n",
    "    y_pre.append(model.predict(X_test[i, ], k))"
   ],
   "metadata": {
    "collapsed": false
   }
  },
  {
   "cell_type": "code",
   "execution_count": 45,
   "outputs": [
    {
     "data": {
      "text/plain": "array([[0.916, 0.106],\n       [0.084, 0.894]])"
     },
     "execution_count": 45,
     "metadata": {},
     "output_type": "execute_result"
    }
   ],
   "source": [
    "2*confusion_matrix(y_pre, y_test)/len(X_test)\n"
   ],
   "metadata": {
    "collapsed": false
   }
  },
  {
   "cell_type": "markdown",
   "source": [
    "## Using Sklearn Package\n"
   ],
   "metadata": {
    "collapsed": false
   }
  },
  {
   "cell_type": "code",
   "execution_count": 46,
   "outputs": [
    {
     "name": "stderr",
     "output_type": "stream",
     "text": [
      "C:\\Users\\Morteza\\AppData\\Local\\Programs\\Python\\Python311\\Lib\\site-packages\\sklearn\\neighbors\\_classification.py:215: DataConversionWarning: A column-vector y was passed when a 1d array was expected. Please change the shape of y to (n_samples,), for example using ravel().\n",
      "  return self._fit(X, y)\n"
     ]
    },
    {
     "data": {
      "text/plain": "array([[0.916, 0.106],\n       [0.084, 0.894]])"
     },
     "execution_count": 46,
     "metadata": {},
     "output_type": "execute_result"
    }
   ],
   "source": [
    "from sklearn.neighbors import KNeighborsClassifier\n",
    "model = KNeighborsClassifier(n_neighbors=10)\n",
    "model.fit(X_train, y_train)\n",
    "y_pre = model.predict(X_test)\n",
    "2*confusion_matrix(y_pre, y_test)/len(X_test)"
   ],
   "metadata": {
    "collapsed": false
   }
  }
 ],
 "metadata": {
  "kernelspec": {
   "display_name": "Python 3",
   "language": "python",
   "name": "python3"
  },
  "language_info": {
   "codemirror_mode": {
    "name": "ipython",
    "version": 2
   },
   "file_extension": ".py",
   "mimetype": "text/x-python",
   "name": "python",
   "nbconvert_exporter": "python",
   "pygments_lexer": "ipython2",
   "version": "2.7.6"
  }
 },
 "nbformat": 4,
 "nbformat_minor": 0
}
