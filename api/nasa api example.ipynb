{
 "cells": [
  {
   "cell_type": "code",
   "execution_count": 5,
   "metadata": {
    "collapsed": true,
    "pycharm": {
     "name": "#%%\n"
    }
   },
   "outputs": [],
   "source": [
    "import requests\n",
    "import os\n"
   ]
  },
  {
   "cell_type": "code",
   "execution_count": 27,
   "outputs": [],
   "source": [
    "api_url = 'https://api.nasa.gov/planetary/apod?'\n",
    "# base url is api_url.\n",
    "query_parameters = {'api_key' : 'DEMO_KEY'}\n",
    "# give endpoint url as query parameter.\n",
    "response = requests.get(api_url, params = query_parameters)"
   ],
   "metadata": {
    "collapsed": false,
    "pycharm": {
     "name": "#%%\n"
    }
   }
  },
  {
   "cell_type": "code",
   "execution_count": 28,
   "outputs": [
    {
     "name": "stdout",
     "output_type": "stream",
     "text": [
      "200\n",
      "{'Date': 'Sun, 25 Sep 2022 18:25:42 GMT', 'Content-Type': 'application/json', 'Transfer-Encoding': 'chunked', 'Connection': 'keep-alive', 'Access-Control-Allow-Origin': '*', 'Access-Control-Expose-Headers': 'X-RateLimit-Limit, X-RateLimit-Remaining', 'Age': '0', 'Content-Encoding': 'gzip', 'Strict-Transport-Security': 'max-age=31536000; preload', 'Vary': 'Accept-Encoding', 'Via': 'http/1.1 api-umbrella (ApacheTrafficServer [cMsSf ])', 'X-Cache': 'MISS', 'X-Ratelimit-Limit': '40', 'X-Ratelimit-Remaining': '36', 'X-Vcap-Request-Id': 'a5a66e72-aaba-4faa-5fa3-dcff374fdf9f', 'X-Frame-Options': 'DENY', 'X-Content-Type-Options': 'nosniff', 'X-XSS-Protection': '1; mode=block'}\n"
     ]
    }
   ],
   "source": [
    "print(response.status_code)\n",
    "print(response.headers)"
   ],
   "metadata": {
    "collapsed": false,
    "pycharm": {
     "name": "#%%\n"
    }
   }
  },
  {
   "cell_type": "code",
   "execution_count": 29,
   "outputs": [
    {
     "name": "stdout",
     "output_type": "stream",
     "text": [
      "{'date': '2022-09-25', 'explanation': 'The dust sculptures of the Eagle Nebula are evaporating.  As powerful starlight whittles away these cool cosmic mountains, the statuesque pillars that remain might be imagined as mythical beasts.  Featured here is one of several striking dust pillars of the Eagle Nebula that might be described as a gigantic alien fairy.   This fairy, however, is ten light years tall and spews radiation much hotter than common fire. The greater Eagle Nebula, M16, is actually a giant evaporating shell of gas and dust inside of which is a growing cavity filled with a spectacular stellar nursery currently forming an open cluster of stars.  This great pillar, which is about 7,000 light years away, will likely evaporate away in about 100,000 years.  The featured image is in scientifically re-assigned colors and was taken by the Earth-orbiting Hubble Space Telescope.', 'hdurl': 'https://apod.nasa.gov/apod/image/2209/FairyPillar_Hubble_3857.jpg', 'media_type': 'image', 'service_version': 'v1', 'title': 'The Fairy of Eagle Nebula', 'url': 'https://apod.nasa.gov/apod/image/2209/FairyPillar_Hubble_960.jpg'}\n"
     ]
    }
   ],
   "source": [
    "print(response.json())"
   ],
   "metadata": {
    "collapsed": false,
    "pycharm": {
     "name": "#%%\n"
    }
   }
  },
  {
   "cell_type": "code",
   "execution_count": 32,
   "outputs": [
    {
     "name": "stdout",
     "output_type": "stream",
     "text": [
      "https://apod.nasa.gov/apod/image/2209/FairyPillar_Hubble_960.jpg\n"
     ]
    }
   ],
   "source": [
    "print(response.json().get('url'))"
   ],
   "metadata": {
    "collapsed": false,
    "pycharm": {
     "name": "#%%\n"
    }
   }
  }
 ],
 "metadata": {
  "kernelspec": {
   "display_name": "Python 3",
   "language": "python",
   "name": "python3"
  },
  "language_info": {
   "codemirror_mode": {
    "name": "ipython",
    "version": 2
   },
   "file_extension": ".py",
   "mimetype": "text/x-python",
   "name": "python",
   "nbconvert_exporter": "python",
   "pygments_lexer": "ipython2",
   "version": "2.7.6"
  }
 },
 "nbformat": 4,
 "nbformat_minor": 0
}