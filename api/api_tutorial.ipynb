{
 "cells": [
  {
   "cell_type": "code",
   "execution_count": null,
   "metadata": {
    "collapsed": true,
    "pycharm": {
     "name": "#%%\n"
    }
   },
   "outputs": [],
   "source": [
    "import requests\n",
    "response = requests.get(\"http://randomuser.me/api/?nat=ir\")\n",
    "# send requests to server of API and get response.\n",
    "base_url = \"http://randomuser.me\" ----> # constant part\n",
    "endpoint = \"api/nat=ir\" -----> # contain query parameters."
   ]
  },
  {
   "cell_type": "code",
   "execution_count": null,
   "outputs": [],
   "source": [
    "http method = get, post, put , delete and ( patch , trace , head , options , connect)\n",
    "# response from API server has a json format.\n",
    "print(response.text) # print response in text format\n",
    "print(response.status_code) # print status of response : 200 means OK\n",
    "print(response.headers) # print headers of response. additional information.\n",
    "req = response.request\n",
    "# by .request method we can reach info about the request that sent to server.\n",
    "print(req.headers)\n",
    "print(req.path_url) # print path of the request---> return endpoint of the request.\n",
    "print(req.url) # print URL of the request.\n",
    "print(req.method) # print method of the request"
   ],
   "metadata": {
    "collapsed": false,
    "pycharm": {
     "name": "#%%\n"
    }
   }
  }
 ],
 "metadata": {
  "kernelspec": {
   "display_name": "Python 3",
   "language": "python",
   "name": "python3"
  },
  "language_info": {
   "codemirror_mode": {
    "name": "ipython",
    "version": 2
   },
   "file_extension": ".py",
   "mimetype": "text/x-python",
   "name": "python",
   "nbconvert_exporter": "python",
   "pygments_lexer": "ipython2",
   "version": "2.7.6"
  }
 },
 "nbformat": 4,
 "nbformat_minor": 0
}